{
 "cells": [
  {
   "cell_type": "markdown",
   "metadata": {},
   "source": [
    "# Trabalho Final - Machine Learning"
   ]
  },
  {
   "cell_type": "markdown",
   "metadata": {},
   "source": [
    "## Carlos A. F. junior - 385154"
   ]
  },
  {
   "cell_type": "markdown",
   "metadata": {},
   "source": [
    "### Problema: What's Cooking? (Plataforma Kaggle)\n",
    "* A partir de receitas culinárias, categoriza o tipo de culinária\n",
    "* Declaração do problema: Preveja o tipo de culinária com base em dados fornecidos (ingredientes). Esta é uma tarefa de classificação que requer processamento e análise de texto.\n",
    "    "
   ]
  },
  {
   "cell_type": "markdown",
   "metadata": {},
   "source": [
    "### Foi utilizado neste trabalho somente o dataset de treino.\n",
    "* O dataset inicialmente possui 3 colunas \n",
    "    1. 'cuisine': Label da categoria daquele prato\n",
    "    2. 'id': Número de identificação de cada prato\n",
    "    3. 'ingredients': ingredientes que compõe cada prato\n",
    "* Possui 39774 pratos"
   ]
  },
  {
   "cell_type": "markdown",
   "metadata": {},
   "source": [
    "### Importação das bibliotecas que serão utilizadas"
   ]
  },
  {
   "cell_type": "code",
   "execution_count": 1,
   "metadata": {},
   "outputs": [],
   "source": [
    "import numpy as np\n",
    "import pandas as pd\n",
    "import matplotlib.pyplot as plt\n",
    "from sklearn.model_selection import train_test_split\n",
    "from sklearn.preprocessing import StandardScaler\n",
    "from sklearn.metrics import accuracy_score\n",
    "\n",
    "from sklearn.dummy import DummyClassifier\n",
    "from sklearn.ensemble import AdaBoostClassifier, RandomForestClassifier\n",
    "\n",
    "from sklearn.linear_model import LogisticRegression\n",
    "from sklearn.svm import SVC\n",
    "from sklearn.naive_bayes import GaussianNB\n",
    "from sklearn.neighbors import NearestNeighbors, DistanceMetric, KNeighborsClassifier\n",
    "\n",
    "from sklearn.metrics import mean_squared_error as mse\n",
    "from sklearn.tree import DecisionTreeRegressor\n",
    "from sklearn.ensemble import RandomForestRegressor\n",
    "from sklearn.ensemble import GradientBoostingRegressor\n",
    "\n",
    "from ml_libs import my_metrics\n",
    "from sklearn import metrics"
   ]
  },
  {
   "cell_type": "markdown",
   "metadata": {},
   "source": [
    "# Análise exploratória dos dados \n"
   ]
  },
  {
   "cell_type": "markdown",
   "metadata": {},
   "source": [
    "### Lendo o DataFrame do arquivo '.json'"
   ]
  },
  {
   "cell_type": "code",
   "execution_count": 2,
   "metadata": {},
   "outputs": [],
   "source": [
    "df = pd.read_json('ml_data/train.json')"
   ]
  },
  {
   "cell_type": "markdown",
   "metadata": {},
   "source": [
    "### Visualização inicial dos dados"
   ]
  },
  {
   "cell_type": "code",
   "execution_count": 3,
   "metadata": {},
   "outputs": [
    {
     "name": "stdout",
     "output_type": "stream",
     "text": [
      "<class 'pandas.core.frame.DataFrame'>\n",
      "RangeIndex: 39774 entries, 0 to 39773\n",
      "Data columns (total 3 columns):\n",
      "cuisine        39774 non-null object\n",
      "id             39774 non-null int64\n",
      "ingredients    39774 non-null object\n",
      "dtypes: int64(1), object(2)\n",
      "memory usage: 932.3+ KB\n"
     ]
    }
   ],
   "source": [
    "df.info()"
   ]
  },
  {
   "cell_type": "code",
   "execution_count": 4,
   "metadata": {},
   "outputs": [
    {
     "data": {
      "text/plain": [
       "(39774, 3)"
      ]
     },
     "execution_count": 4,
     "metadata": {},
     "output_type": "execute_result"
    }
   ],
   "source": [
    "df.shape"
   ]
  },
  {
   "cell_type": "code",
   "execution_count": 5,
   "metadata": {},
   "outputs": [
    {
     "name": "stdout",
     "output_type": "stream",
     "text": [
      "O dataset contém em 39774 receitas\n"
     ]
    }
   ],
   "source": [
    "print(\"O dataset contém em {} receitas\".format(len(df)))"
   ]
  },
  {
   "cell_type": "code",
   "execution_count": 6,
   "metadata": {},
   "outputs": [
    {
     "data": {
      "text/html": [
       "<div>\n",
       "<style scoped>\n",
       "    .dataframe tbody tr th:only-of-type {\n",
       "        vertical-align: middle;\n",
       "    }\n",
       "\n",
       "    .dataframe tbody tr th {\n",
       "        vertical-align: top;\n",
       "    }\n",
       "\n",
       "    .dataframe thead th {\n",
       "        text-align: right;\n",
       "    }\n",
       "</style>\n",
       "<table border=\"1\" class=\"dataframe\">\n",
       "  <thead>\n",
       "    <tr style=\"text-align: right;\">\n",
       "      <th></th>\n",
       "      <th>cuisine</th>\n",
       "      <th>id</th>\n",
       "      <th>ingredients</th>\n",
       "    </tr>\n",
       "  </thead>\n",
       "  <tbody>\n",
       "    <tr>\n",
       "      <th>0</th>\n",
       "      <td>greek</td>\n",
       "      <td>10259</td>\n",
       "      <td>[romaine lettuce, black olives, grape tomatoes...</td>\n",
       "    </tr>\n",
       "    <tr>\n",
       "      <th>1</th>\n",
       "      <td>southern_us</td>\n",
       "      <td>25693</td>\n",
       "      <td>[plain flour, ground pepper, salt, tomatoes, g...</td>\n",
       "    </tr>\n",
       "    <tr>\n",
       "      <th>2</th>\n",
       "      <td>filipino</td>\n",
       "      <td>20130</td>\n",
       "      <td>[eggs, pepper, salt, mayonaise, cooking oil, g...</td>\n",
       "    </tr>\n",
       "    <tr>\n",
       "      <th>3</th>\n",
       "      <td>indian</td>\n",
       "      <td>22213</td>\n",
       "      <td>[water, vegetable oil, wheat, salt]</td>\n",
       "    </tr>\n",
       "    <tr>\n",
       "      <th>4</th>\n",
       "      <td>indian</td>\n",
       "      <td>13162</td>\n",
       "      <td>[black pepper, shallots, cornflour, cayenne pe...</td>\n",
       "    </tr>\n",
       "  </tbody>\n",
       "</table>\n",
       "</div>"
      ],
      "text/plain": [
       "       cuisine     id                                        ingredients\n",
       "0        greek  10259  [romaine lettuce, black olives, grape tomatoes...\n",
       "1  southern_us  25693  [plain flour, ground pepper, salt, tomatoes, g...\n",
       "2     filipino  20130  [eggs, pepper, salt, mayonaise, cooking oil, g...\n",
       "3       indian  22213                [water, vegetable oil, wheat, salt]\n",
       "4       indian  13162  [black pepper, shallots, cornflour, cayenne pe..."
      ]
     },
     "execution_count": 6,
     "metadata": {},
     "output_type": "execute_result"
    }
   ],
   "source": [
    "df.head(5)"
   ]
  },
  {
   "cell_type": "code",
   "execution_count": 7,
   "metadata": {},
   "outputs": [
    {
     "name": "stdout",
     "output_type": "stream",
     "text": [
      "Número de categorias culinárias: 20\n"
     ]
    },
    {
     "data": {
      "text/plain": [
       "array(['greek', 'southern_us', 'filipino', 'indian', 'jamaican',\n",
       "       'spanish', 'italian', 'mexican', 'chinese', 'british', 'thai',\n",
       "       'vietnamese', 'cajun_creole', 'brazilian', 'french', 'japanese',\n",
       "       'irish', 'korean', 'moroccan', 'russian'], dtype=object)"
      ]
     },
     "execution_count": 7,
     "metadata": {},
     "output_type": "execute_result"
    }
   ],
   "source": [
    "print(\"Número de categorias culinárias: {}\".format(len(df.cuisine.unique())))\n",
    "df.cuisine.unique()"
   ]
  },
  {
   "cell_type": "code",
   "execution_count": 8,
   "metadata": {},
   "outputs": [
    {
     "name": "stdout",
     "output_type": "stream",
     "text": [
      "Nº de receitas | Cozinha\n",
      "\t---------------\n",
      "\t 7838  |  italian\n",
      "\t 6438  |  mexican\n",
      "\t 4320  |  southern_us\n",
      "\t 3003  |  indian\n",
      "\t 2673  |  chinese\n",
      "\t 2646  |  french\n",
      "\t 1546  |  cajun_creole\n",
      "\t 1539  |  thai\n",
      "\t 1423  |  japanese\n",
      "\t 1175  |  greek\n",
      "\t 989  |  spanish\n",
      "\t 830  |  korean\n",
      "\t 825  |  vietnamese\n",
      "\t 821  |  moroccan\n",
      "\t 804  |  british\n",
      "\t 755  |  filipino\n",
      "\t 667  |  irish\n",
      "\t 526  |  jamaican\n",
      "\t 489  |  russian\n",
      "\t 467  |  brazilian\n"
     ]
    }
   ],
   "source": [
    "dicio = dict(zip(df.cuisine.value_counts().index, df.cuisine.value_counts()))\n",
    "print('Nº de receitas | Cozinha\\n\\t---------------')\n",
    "for i in dicio.keys():\n",
    "    print('\\t', dicio[i], \" | \", i)"
   ]
  },
  {
   "cell_type": "code",
   "execution_count": 9,
   "metadata": {},
   "outputs": [],
   "source": [
    "pre = list()\n",
    "for i in dicio.keys():\n",
    "    pre.append([i, dicio[i]])\n",
    "df_plt = pd.DataFrame(data=pre, columns=('Cozinha','Nº de receitas'))"
   ]
  },
  {
   "cell_type": "code",
   "execution_count": 10,
   "metadata": {},
   "outputs": [
    {
     "data": {
      "text/plain": [
       "<matplotlib.axes._subplots.AxesSubplot at 0x7f7feca95860>"
      ]
     },
     "execution_count": 10,
     "metadata": {},
     "output_type": "execute_result"
    },
    {
     "data": {
      "image/png": "[encoded data removed]",
      "text/plain": [
       "<Figure size 576x576 with 1 Axes>"
      ]
     },
     "metadata": {
      "needs_background": "light"
     },
     "output_type": "display_data"
    }
   ],
   "source": [
    "df_plt.sort_values(by='Nº de receitas').plot(kind='barh', x=0, y='Nº de receitas', figsize=(8,8))"
   ]
  },
  {
   "cell_type": "code",
   "execution_count": 11,
   "metadata": {},
   "outputs": [
    {
     "name": "stdout",
     "output_type": "stream",
     "text": [
      "Número máximo de ingredientes num prato:  65\n",
      "Número mínimo de ingredientes num prato:  1\n"
     ]
    }
   ],
   "source": [
    "print('Número máximo de ingredientes num prato: ', df['ingredients'].str.len().max())\n",
    "print('Número mínimo de ingredientes num prato: ', df['ingredients'].str.len().min())"
   ]
  },
  {
   "cell_type": "code",
   "execution_count": 12,
   "metadata": {},
   "outputs": [
    {
     "name": "stdout",
     "output_type": "stream",
     "text": [
      "1004 receitas possuem mais de 20 ingredientes!\n"
     ]
    },
    {
     "data": {
      "text/html": [
       "<div>\n",
       "<style scoped>\n",
       "    .dataframe tbody tr th:only-of-type {\n",
       "        vertical-align: middle;\n",
       "    }\n",
       "\n",
       "    .dataframe tbody tr th {\n",
       "        vertical-align: top;\n",
       "    }\n",
       "\n",
       "    .dataframe thead th {\n",
       "        text-align: right;\n",
       "    }\n",
       "</style>\n",
       "<table border=\"1\" class=\"dataframe\">\n",
       "  <thead>\n",
       "    <tr style=\"text-align: right;\">\n",
       "      <th></th>\n",
       "      <th>cuisine</th>\n",
       "      <th>id</th>\n",
       "      <th>ingredients</th>\n",
       "    </tr>\n",
       "  </thead>\n",
       "  <tbody>\n",
       "    <tr>\n",
       "      <th>55</th>\n",
       "      <td>jamaican</td>\n",
       "      <td>3535</td>\n",
       "      <td>[bread crumbs, unsalted butter, onion powder, ...</td>\n",
       "    </tr>\n",
       "    <tr>\n",
       "      <th>71</th>\n",
       "      <td>indian</td>\n",
       "      <td>45839</td>\n",
       "      <td>[burger buns, fresh cilantro, chili powder, ga...</td>\n",
       "    </tr>\n",
       "    <tr>\n",
       "      <th>251</th>\n",
       "      <td>indian</td>\n",
       "      <td>6862</td>\n",
       "      <td>[tomatoes, red chile powder, boneless chicken ...</td>\n",
       "    </tr>\n",
       "    <tr>\n",
       "      <th>294</th>\n",
       "      <td>filipino</td>\n",
       "      <td>9829</td>\n",
       "      <td>[sugar, fresh cilantro, hoisin sauce, butter, ...</td>\n",
       "    </tr>\n",
       "    <tr>\n",
       "      <th>342</th>\n",
       "      <td>chinese</td>\n",
       "      <td>20039</td>\n",
       "      <td>[chicken broth, white wine, zucchini, salted r...</td>\n",
       "    </tr>\n",
       "  </tbody>\n",
       "</table>\n",
       "</div>"
      ],
      "text/plain": [
       "      cuisine     id                                        ingredients\n",
       "55   jamaican   3535  [bread crumbs, unsalted butter, onion powder, ...\n",
       "71     indian  45839  [burger buns, fresh cilantro, chili powder, ga...\n",
       "251    indian   6862  [tomatoes, red chile powder, boneless chicken ...\n",
       "294  filipino   9829  [sugar, fresh cilantro, hoisin sauce, butter, ...\n",
       "342   chinese  20039  [chicken broth, white wine, zucchini, salted r..."
      ]
     },
     "execution_count": 12,
     "metadata": {},
     "output_type": "execute_result"
    }
   ],
   "source": [
    "longrecipes = df[df['ingredients'].str.len() > 20]\n",
    "print(\"{} receitas possuem mais de 20 ingredientes!\".format(len(longrecipes)))\n",
    "longrecipes.head(5)"
   ]
  },
  {
   "cell_type": "code",
   "execution_count": 13,
   "metadata": {},
   "outputs": [
    {
     "name": "stdout",
     "output_type": "stream",
     "text": [
      "17083 receitas possuem menos de 10 ingredientes!\n"
     ]
    },
    {
     "data": {
      "text/html": [
       "<div>\n",
       "<style scoped>\n",
       "    .dataframe tbody tr th:only-of-type {\n",
       "        vertical-align: middle;\n",
       "    }\n",
       "\n",
       "    .dataframe tbody tr th {\n",
       "        vertical-align: top;\n",
       "    }\n",
       "\n",
       "    .dataframe thead th {\n",
       "        text-align: right;\n",
       "    }\n",
       "</style>\n",
       "<table border=\"1\" class=\"dataframe\">\n",
       "  <thead>\n",
       "    <tr style=\"text-align: right;\">\n",
       "      <th></th>\n",
       "      <th>cuisine</th>\n",
       "      <th>id</th>\n",
       "      <th>ingredients</th>\n",
       "    </tr>\n",
       "  </thead>\n",
       "  <tbody>\n",
       "    <tr>\n",
       "      <th>0</th>\n",
       "      <td>greek</td>\n",
       "      <td>10259</td>\n",
       "      <td>[romaine lettuce, black olives, grape tomatoes...</td>\n",
       "    </tr>\n",
       "    <tr>\n",
       "      <th>3</th>\n",
       "      <td>indian</td>\n",
       "      <td>22213</td>\n",
       "      <td>[water, vegetable oil, wheat, salt]</td>\n",
       "    </tr>\n",
       "    <tr>\n",
       "      <th>9</th>\n",
       "      <td>italian</td>\n",
       "      <td>12734</td>\n",
       "      <td>[chopped tomatoes, fresh basil, garlic, extra-...</td>\n",
       "    </tr>\n",
       "    <tr>\n",
       "      <th>16</th>\n",
       "      <td>british</td>\n",
       "      <td>34466</td>\n",
       "      <td>[greek yogurt, lemon curd, confectioners sugar...</td>\n",
       "    </tr>\n",
       "    <tr>\n",
       "      <th>17</th>\n",
       "      <td>italian</td>\n",
       "      <td>1420</td>\n",
       "      <td>[italian seasoning, broiler-fryer chicken, may...</td>\n",
       "    </tr>\n",
       "  </tbody>\n",
       "</table>\n",
       "</div>"
      ],
      "text/plain": [
       "    cuisine     id                                        ingredients\n",
       "0     greek  10259  [romaine lettuce, black olives, grape tomatoes...\n",
       "3    indian  22213                [water, vegetable oil, wheat, salt]\n",
       "9   italian  12734  [chopped tomatoes, fresh basil, garlic, extra-...\n",
       "16  british  34466  [greek yogurt, lemon curd, confectioners sugar...\n",
       "17  italian   1420  [italian seasoning, broiler-fryer chicken, may..."
      ]
     },
     "execution_count": 13,
     "metadata": {},
     "output_type": "execute_result"
    }
   ],
   "source": [
    "smallrecipes = df[df['ingredients'].str.len() < 10]\n",
    "print(\"{} receitas possuem menos de 10 ingredientes!\".format(len(smallrecipes)))\n",
    "smallrecipes.head(5)"
   ]
  },
  {
   "cell_type": "code",
   "execution_count": 14,
   "metadata": {},
   "outputs": [],
   "source": [
    "df = df.drop(labels=smallrecipes.index.values)\n",
    "df = df.drop(labels=longrecipes.index.values)"
   ]
  },
  {
   "cell_type": "code",
   "execution_count": 15,
   "metadata": {},
   "outputs": [
    {
     "data": {
      "text/html": [
       "<div>\n",
       "<style scoped>\n",
       "    .dataframe tbody tr th:only-of-type {\n",
       "        vertical-align: middle;\n",
       "    }\n",
       "\n",
       "    .dataframe tbody tr th {\n",
       "        vertical-align: top;\n",
       "    }\n",
       "\n",
       "    .dataframe thead th {\n",
       "        text-align: right;\n",
       "    }\n",
       "</style>\n",
       "<table border=\"1\" class=\"dataframe\">\n",
       "  <thead>\n",
       "    <tr style=\"text-align: right;\">\n",
       "      <th></th>\n",
       "      <th>cuisine</th>\n",
       "      <th>id</th>\n",
       "      <th>ingredients</th>\n",
       "    </tr>\n",
       "  </thead>\n",
       "  <tbody>\n",
       "    <tr>\n",
       "      <th>0</th>\n",
       "      <td>southern_us</td>\n",
       "      <td>25693</td>\n",
       "      <td>[plain flour, ground pepper, salt, tomatoes, g...</td>\n",
       "    </tr>\n",
       "    <tr>\n",
       "      <th>1</th>\n",
       "      <td>filipino</td>\n",
       "      <td>20130</td>\n",
       "      <td>[eggs, pepper, salt, mayonaise, cooking oil, g...</td>\n",
       "    </tr>\n",
       "    <tr>\n",
       "      <th>2</th>\n",
       "      <td>indian</td>\n",
       "      <td>13162</td>\n",
       "      <td>[black pepper, shallots, cornflour, cayenne pe...</td>\n",
       "    </tr>\n",
       "    <tr>\n",
       "      <th>3</th>\n",
       "      <td>jamaican</td>\n",
       "      <td>6602</td>\n",
       "      <td>[plain flour, sugar, butter, eggs, fresh ginge...</td>\n",
       "    </tr>\n",
       "    <tr>\n",
       "      <th>4</th>\n",
       "      <td>spanish</td>\n",
       "      <td>42779</td>\n",
       "      <td>[olive oil, salt, medium shrimp, pepper, garli...</td>\n",
       "    </tr>\n",
       "    <tr>\n",
       "      <th>5</th>\n",
       "      <td>italian</td>\n",
       "      <td>3735</td>\n",
       "      <td>[sugar, pistachio nuts, white almond bark, flo...</td>\n",
       "    </tr>\n",
       "    <tr>\n",
       "      <th>6</th>\n",
       "      <td>mexican</td>\n",
       "      <td>16903</td>\n",
       "      <td>[olive oil, purple onion, fresh pineapple, por...</td>\n",
       "    </tr>\n",
       "    <tr>\n",
       "      <th>7</th>\n",
       "      <td>italian</td>\n",
       "      <td>5875</td>\n",
       "      <td>[pimentos, sweet pepper, dried oregano, olive ...</td>\n",
       "    </tr>\n",
       "    <tr>\n",
       "      <th>8</th>\n",
       "      <td>chinese</td>\n",
       "      <td>45887</td>\n",
       "      <td>[low sodium soy sauce, fresh ginger, dry musta...</td>\n",
       "    </tr>\n",
       "    <tr>\n",
       "      <th>9</th>\n",
       "      <td>italian</td>\n",
       "      <td>2698</td>\n",
       "      <td>[Italian parsley leaves, walnuts, hot red pepp...</td>\n",
       "    </tr>\n",
       "  </tbody>\n",
       "</table>\n",
       "</div>"
      ],
      "text/plain": [
       "       cuisine     id                                        ingredients\n",
       "0  southern_us  25693  [plain flour, ground pepper, salt, tomatoes, g...\n",
       "1     filipino  20130  [eggs, pepper, salt, mayonaise, cooking oil, g...\n",
       "2       indian  13162  [black pepper, shallots, cornflour, cayenne pe...\n",
       "3     jamaican   6602  [plain flour, sugar, butter, eggs, fresh ginge...\n",
       "4      spanish  42779  [olive oil, salt, medium shrimp, pepper, garli...\n",
       "5      italian   3735  [sugar, pistachio nuts, white almond bark, flo...\n",
       "6      mexican  16903  [olive oil, purple onion, fresh pineapple, por...\n",
       "7      italian   5875  [pimentos, sweet pepper, dried oregano, olive ...\n",
       "8      chinese  45887  [low sodium soy sauce, fresh ginger, dry musta...\n",
       "9      italian   2698  [Italian parsley leaves, walnuts, hot red pepp..."
      ]
     },
     "execution_count": 15,
     "metadata": {},
     "output_type": "execute_result"
    }
   ],
   "source": [
    "df = df.reset_index()\n",
    "df = df.drop(columns=['index'])\n",
    "df.head(10)"
   ]
  },
  {
   "cell_type": "code",
   "execution_count": 16,
   "metadata": {},
   "outputs": [
    {
     "name": "stdout",
     "output_type": "stream",
     "text": [
      "<class 'pandas.core.frame.DataFrame'>\n",
      "RangeIndex: 21687 entries, 0 to 21686\n",
      "Data columns (total 3 columns):\n",
      "cuisine        21687 non-null object\n",
      "id             21687 non-null int64\n",
      "ingredients    21687 non-null object\n",
      "dtypes: int64(1), object(2)\n",
      "memory usage: 508.4+ KB\n"
     ]
    }
   ],
   "source": [
    "df.info()"
   ]
  },
  {
   "cell_type": "markdown",
   "metadata": {},
   "source": [
    "### Separando todos os ingredientes de todos os pratos"
   ]
  },
  {
   "cell_type": "code",
   "execution_count": 17,
   "metadata": {},
   "outputs": [
    {
     "name": "stdout",
     "output_type": "stream",
     "text": [
      "287141 (5619,)\n",
      "['plain flour' 'ground pepper' 'salt' ... 'crushed cheese crackers'\n",
      " 'cheddar cheese soup' 'hot tea']\n"
     ]
    }
   ],
   "source": [
    "partial = []\n",
    "\n",
    "for line in range(0, len(df), 1):\n",
    "    for column in range(0, len(df['ingredients'][line]), 1):\n",
    "        partial.append(df['ingredients'][line][column])\n",
    "\n",
    "features = np.asarray(list(dict.fromkeys(partial)))\n",
    "print(len(partial), features.shape)\n",
    "print(features)"
   ]
  },
  {
   "cell_type": "code",
   "execution_count": 18,
   "metadata": {},
   "outputs": [],
   "source": [
    "counts = {}\n",
    "for ingr in partial:\n",
    "    counts[ingr] = 0\n",
    "for ingr in partial:\n",
    "    counts[ingr] += 1"
   ]
  },
  {
   "cell_type": "code",
   "execution_count": 19,
   "metadata": {},
   "outputs": [
    {
     "name": "stdout",
     "output_type": "stream",
     "text": [
      "11753  :  salt\n",
      "5990  :  onions\n",
      "5415  :  garlic\n",
      "5340  :  olive oil\n",
      "4823  :  water\n",
      "4557  :  garlic cloves\n",
      "3550  :  sugar\n",
      "3420  :  ground black pepper\n",
      "2995  :  pepper\n",
      "2986  :  vegetable oil\n",
      "2956  :  all-purpose flour\n",
      "2810  :  butter\n",
      "2358  :  soy sauce\n",
      "2241  :  carrots\n",
      "2233  :  green onions\n",
      "2125  :  ground cumin\n",
      "2056  :  tomatoes\n",
      "2039  :  kosher salt\n",
      "1971  :  eggs\n",
      "1905  :  large eggs\n",
      "1875  :  black pepper\n",
      "1626  :  unsalted butter\n",
      "1583  :  extra-virgin olive oil\n",
      "1520  :  chili powder\n",
      "1514  :  red bell pepper\n",
      "1423  :  corn starch\n",
      "1420  :  scallions\n",
      "1400  :  ginger\n",
      "1382  :  sesame oil\n",
      "1317  :  oil\n",
      "1304  :  purple onion\n",
      "1290  :  dried oregano\n",
      "1224  :  diced tomatoes\n",
      "1200  :  chopped cilantro fresh\n",
      "1188  :  fresh ginger\n",
      "1170  :  milk\n",
      "1165  :  fresh parsley\n",
      "1162  :  chicken broth\n",
      "1158  :  jalapeno chilies\n",
      "1149  :  minced garlic\n",
      "1145  :  cooking spray\n",
      "1128  :  grated parmesan cheese\n",
      "1105  :  cayenne pepper\n",
      "1049  :  shallots\n",
      "1042  :  baking powder\n",
      "1038  :  fresh lemon juice\n",
      "1035  :  brown sugar\n",
      "988  :  sour cream\n",
      "975  :  chopped onion\n",
      "956  :  garlic powder\n"
     ]
    }
   ],
   "source": [
    "i = 0\n",
    "for key in sorted(counts, key=counts.get, reverse=True):\n",
    "    if i == 50:\n",
    "        break\n",
    "    print(counts[key], ' : ' , key)\n",
    "    i += 1"
   ]
  },
  {
   "cell_type": "markdown",
   "metadata": {},
   "source": [
    "### Definição de um degundo dataframe com as features"
   ]
  },
  {
   "cell_type": "code",
   "execution_count": 20,
   "metadata": {},
   "outputs": [
    {
     "data": {
      "text/html": [
       "<div>\n",
       "<style scoped>\n",
       "    .dataframe tbody tr th:only-of-type {\n",
       "        vertical-align: middle;\n",
       "    }\n",
       "\n",
       "    .dataframe tbody tr th {\n",
       "        vertical-align: top;\n",
       "    }\n",
       "\n",
       "    .dataframe thead th {\n",
       "        text-align: right;\n",
       "    }\n",
       "</style>\n",
       "<table border=\"1\" class=\"dataframe\">\n",
       "  <thead>\n",
       "    <tr style=\"text-align: right;\">\n",
       "      <th></th>\n",
       "      <th>plain flour</th>\n",
       "      <th>ground pepper</th>\n",
       "      <th>salt</th>\n",
       "      <th>tomatoes</th>\n",
       "      <th>ground black pepper</th>\n",
       "      <th>thyme</th>\n",
       "      <th>eggs</th>\n",
       "      <th>green tomatoes</th>\n",
       "      <th>yellow corn meal</th>\n",
       "      <th>milk</th>\n",
       "      <th>...</th>\n",
       "      <th>orange glaze</th>\n",
       "      <th>hing (powder)</th>\n",
       "      <th>ciabatta loaf</th>\n",
       "      <th>ruby red grapefruit</th>\n",
       "      <th>golden mushroom soup</th>\n",
       "      <th>lop chong</th>\n",
       "      <th>chilli bean sauce</th>\n",
       "      <th>crushed cheese crackers</th>\n",
       "      <th>cheddar cheese soup</th>\n",
       "      <th>hot tea</th>\n",
       "    </tr>\n",
       "  </thead>\n",
       "  <tbody>\n",
       "    <tr>\n",
       "      <th>0</th>\n",
       "      <td>False</td>\n",
       "      <td>False</td>\n",
       "      <td>False</td>\n",
       "      <td>False</td>\n",
       "      <td>False</td>\n",
       "      <td>False</td>\n",
       "      <td>False</td>\n",
       "      <td>False</td>\n",
       "      <td>False</td>\n",
       "      <td>False</td>\n",
       "      <td>...</td>\n",
       "      <td>False</td>\n",
       "      <td>False</td>\n",
       "      <td>False</td>\n",
       "      <td>False</td>\n",
       "      <td>False</td>\n",
       "      <td>False</td>\n",
       "      <td>False</td>\n",
       "      <td>False</td>\n",
       "      <td>False</td>\n",
       "      <td>False</td>\n",
       "    </tr>\n",
       "    <tr>\n",
       "      <th>1</th>\n",
       "      <td>False</td>\n",
       "      <td>False</td>\n",
       "      <td>False</td>\n",
       "      <td>False</td>\n",
       "      <td>False</td>\n",
       "      <td>False</td>\n",
       "      <td>False</td>\n",
       "      <td>False</td>\n",
       "      <td>False</td>\n",
       "      <td>False</td>\n",
       "      <td>...</td>\n",
       "      <td>False</td>\n",
       "      <td>False</td>\n",
       "      <td>False</td>\n",
       "      <td>False</td>\n",
       "      <td>False</td>\n",
       "      <td>False</td>\n",
       "      <td>False</td>\n",
       "      <td>False</td>\n",
       "      <td>False</td>\n",
       "      <td>False</td>\n",
       "    </tr>\n",
       "    <tr>\n",
       "      <th>2</th>\n",
       "      <td>False</td>\n",
       "      <td>False</td>\n",
       "      <td>False</td>\n",
       "      <td>False</td>\n",
       "      <td>False</td>\n",
       "      <td>False</td>\n",
       "      <td>False</td>\n",
       "      <td>False</td>\n",
       "      <td>False</td>\n",
       "      <td>False</td>\n",
       "      <td>...</td>\n",
       "      <td>False</td>\n",
       "      <td>False</td>\n",
       "      <td>False</td>\n",
       "      <td>False</td>\n",
       "      <td>False</td>\n",
       "      <td>False</td>\n",
       "      <td>False</td>\n",
       "      <td>False</td>\n",
       "      <td>False</td>\n",
       "      <td>False</td>\n",
       "    </tr>\n",
       "    <tr>\n",
       "      <th>3</th>\n",
       "      <td>False</td>\n",
       "      <td>False</td>\n",
       "      <td>False</td>\n",
       "      <td>False</td>\n",
       "      <td>False</td>\n",
       "      <td>False</td>\n",
       "      <td>False</td>\n",
       "      <td>False</td>\n",
       "      <td>False</td>\n",
       "      <td>False</td>\n",
       "      <td>...</td>\n",
       "      <td>False</td>\n",
       "      <td>False</td>\n",
       "      <td>False</td>\n",
       "      <td>False</td>\n",
       "      <td>False</td>\n",
       "      <td>False</td>\n",
       "      <td>False</td>\n",
       "      <td>False</td>\n",
       "      <td>False</td>\n",
       "      <td>False</td>\n",
       "    </tr>\n",
       "    <tr>\n",
       "      <th>4</th>\n",
       "      <td>False</td>\n",
       "      <td>False</td>\n",
       "      <td>False</td>\n",
       "      <td>False</td>\n",
       "      <td>False</td>\n",
       "      <td>False</td>\n",
       "      <td>False</td>\n",
       "      <td>False</td>\n",
       "      <td>False</td>\n",
       "      <td>False</td>\n",
       "      <td>...</td>\n",
       "      <td>False</td>\n",
       "      <td>False</td>\n",
       "      <td>False</td>\n",
       "      <td>False</td>\n",
       "      <td>False</td>\n",
       "      <td>False</td>\n",
       "      <td>False</td>\n",
       "      <td>False</td>\n",
       "      <td>False</td>\n",
       "      <td>False</td>\n",
       "    </tr>\n",
       "  </tbody>\n",
       "</table>\n",
       "<p>5 rows × 5619 columns</p>\n",
       "</div>"
      ],
      "text/plain": [
       "   plain flour  ground pepper   salt  tomatoes  ground black pepper  thyme  \\\n",
       "0        False          False  False     False                False  False   \n",
       "1        False          False  False     False                False  False   \n",
       "2        False          False  False     False                False  False   \n",
       "3        False          False  False     False                False  False   \n",
       "4        False          False  False     False                False  False   \n",
       "\n",
       "    eggs  green tomatoes  yellow corn meal   milk  ...  orange glaze  \\\n",
       "0  False           False             False  False  ...         False   \n",
       "1  False           False             False  False  ...         False   \n",
       "2  False           False             False  False  ...         False   \n",
       "3  False           False             False  False  ...         False   \n",
       "4  False           False             False  False  ...         False   \n",
       "\n",
       "   hing (powder)  ciabatta loaf  ruby red grapefruit  golden mushroom soup  \\\n",
       "0          False          False                False                 False   \n",
       "1          False          False                False                 False   \n",
       "2          False          False                False                 False   \n",
       "3          False          False                False                 False   \n",
       "4          False          False                False                 False   \n",
       "\n",
       "   lop chong  chilli bean sauce  crushed cheese crackers  cheddar cheese soup  \\\n",
       "0      False              False                    False                False   \n",
       "1      False              False                    False                False   \n",
       "2      False              False                    False                False   \n",
       "3      False              False                    False                False   \n",
       "4      False              False                    False                False   \n",
       "\n",
       "   hot tea  \n",
       "0    False  \n",
       "1    False  \n",
       "2    False  \n",
       "3    False  \n",
       "4    False  \n",
       "\n",
       "[5 rows x 5619 columns]"
      ]
     },
     "execution_count": 20,
     "metadata": {},
     "output_type": "execute_result"
    }
   ],
   "source": [
    "values = np.zeros((df.shape[0], len(features)))\n",
    "df_new = pd.DataFrame(data=values.astype('bool'), columns=features)\n",
    "df_new.head(5)"
   ]
  },
  {
   "cell_type": "code",
   "execution_count": 21,
   "metadata": {},
   "outputs": [],
   "source": [
    "for line in range(0, len(df), 1):\n",
    "    for column in range(0, len(df['ingredients'][line]), 1):\n",
    "        df_new.at[line, df['ingredients'][line][column]] = True"
   ]
  },
  {
   "cell_type": "code",
   "execution_count": 22,
   "metadata": {},
   "outputs": [
    {
     "data": {
      "text/html": [
       "<div>\n",
       "<style scoped>\n",
       "    .dataframe tbody tr th:only-of-type {\n",
       "        vertical-align: middle;\n",
       "    }\n",
       "\n",
       "    .dataframe tbody tr th {\n",
       "        vertical-align: top;\n",
       "    }\n",
       "\n",
       "    .dataframe thead th {\n",
       "        text-align: right;\n",
       "    }\n",
       "</style>\n",
       "<table border=\"1\" class=\"dataframe\">\n",
       "  <thead>\n",
       "    <tr style=\"text-align: right;\">\n",
       "      <th></th>\n",
       "      <th>plain flour</th>\n",
       "      <th>ground pepper</th>\n",
       "      <th>salt</th>\n",
       "      <th>tomatoes</th>\n",
       "      <th>ground black pepper</th>\n",
       "      <th>thyme</th>\n",
       "      <th>eggs</th>\n",
       "      <th>green tomatoes</th>\n",
       "      <th>yellow corn meal</th>\n",
       "      <th>milk</th>\n",
       "      <th>...</th>\n",
       "      <th>orange glaze</th>\n",
       "      <th>hing (powder)</th>\n",
       "      <th>ciabatta loaf</th>\n",
       "      <th>ruby red grapefruit</th>\n",
       "      <th>golden mushroom soup</th>\n",
       "      <th>lop chong</th>\n",
       "      <th>chilli bean sauce</th>\n",
       "      <th>crushed cheese crackers</th>\n",
       "      <th>cheddar cheese soup</th>\n",
       "      <th>hot tea</th>\n",
       "    </tr>\n",
       "  </thead>\n",
       "  <tbody>\n",
       "    <tr>\n",
       "      <th>0</th>\n",
       "      <td>True</td>\n",
       "      <td>True</td>\n",
       "      <td>True</td>\n",
       "      <td>True</td>\n",
       "      <td>True</td>\n",
       "      <td>True</td>\n",
       "      <td>True</td>\n",
       "      <td>True</td>\n",
       "      <td>True</td>\n",
       "      <td>True</td>\n",
       "      <td>...</td>\n",
       "      <td>False</td>\n",
       "      <td>False</td>\n",
       "      <td>False</td>\n",
       "      <td>False</td>\n",
       "      <td>False</td>\n",
       "      <td>False</td>\n",
       "      <td>False</td>\n",
       "      <td>False</td>\n",
       "      <td>False</td>\n",
       "      <td>False</td>\n",
       "    </tr>\n",
       "    <tr>\n",
       "      <th>1</th>\n",
       "      <td>False</td>\n",
       "      <td>False</td>\n",
       "      <td>True</td>\n",
       "      <td>False</td>\n",
       "      <td>False</td>\n",
       "      <td>False</td>\n",
       "      <td>True</td>\n",
       "      <td>False</td>\n",
       "      <td>False</td>\n",
       "      <td>False</td>\n",
       "      <td>...</td>\n",
       "      <td>False</td>\n",
       "      <td>False</td>\n",
       "      <td>False</td>\n",
       "      <td>False</td>\n",
       "      <td>False</td>\n",
       "      <td>False</td>\n",
       "      <td>False</td>\n",
       "      <td>False</td>\n",
       "      <td>False</td>\n",
       "      <td>False</td>\n",
       "    </tr>\n",
       "    <tr>\n",
       "      <th>2</th>\n",
       "      <td>False</td>\n",
       "      <td>False</td>\n",
       "      <td>True</td>\n",
       "      <td>False</td>\n",
       "      <td>False</td>\n",
       "      <td>False</td>\n",
       "      <td>False</td>\n",
       "      <td>False</td>\n",
       "      <td>False</td>\n",
       "      <td>True</td>\n",
       "      <td>...</td>\n",
       "      <td>False</td>\n",
       "      <td>False</td>\n",
       "      <td>False</td>\n",
       "      <td>False</td>\n",
       "      <td>False</td>\n",
       "      <td>False</td>\n",
       "      <td>False</td>\n",
       "      <td>False</td>\n",
       "      <td>False</td>\n",
       "      <td>False</td>\n",
       "    </tr>\n",
       "    <tr>\n",
       "      <th>3</th>\n",
       "      <td>True</td>\n",
       "      <td>False</td>\n",
       "      <td>True</td>\n",
       "      <td>False</td>\n",
       "      <td>False</td>\n",
       "      <td>False</td>\n",
       "      <td>True</td>\n",
       "      <td>False</td>\n",
       "      <td>False</td>\n",
       "      <td>True</td>\n",
       "      <td>...</td>\n",
       "      <td>False</td>\n",
       "      <td>False</td>\n",
       "      <td>False</td>\n",
       "      <td>False</td>\n",
       "      <td>False</td>\n",
       "      <td>False</td>\n",
       "      <td>False</td>\n",
       "      <td>False</td>\n",
       "      <td>False</td>\n",
       "      <td>False</td>\n",
       "    </tr>\n",
       "    <tr>\n",
       "      <th>4</th>\n",
       "      <td>False</td>\n",
       "      <td>False</td>\n",
       "      <td>True</td>\n",
       "      <td>False</td>\n",
       "      <td>False</td>\n",
       "      <td>False</td>\n",
       "      <td>False</td>\n",
       "      <td>False</td>\n",
       "      <td>False</td>\n",
       "      <td>False</td>\n",
       "      <td>...</td>\n",
       "      <td>False</td>\n",
       "      <td>False</td>\n",
       "      <td>False</td>\n",
       "      <td>False</td>\n",
       "      <td>False</td>\n",
       "      <td>False</td>\n",
       "      <td>False</td>\n",
       "      <td>False</td>\n",
       "      <td>False</td>\n",
       "      <td>False</td>\n",
       "    </tr>\n",
       "  </tbody>\n",
       "</table>\n",
       "<p>5 rows × 5619 columns</p>\n",
       "</div>"
      ],
      "text/plain": [
       "   plain flour  ground pepper  salt  tomatoes  ground black pepper  thyme  \\\n",
       "0         True           True  True      True                 True   True   \n",
       "1        False          False  True     False                False  False   \n",
       "2        False          False  True     False                False  False   \n",
       "3         True          False  True     False                False  False   \n",
       "4        False          False  True     False                False  False   \n",
       "\n",
       "    eggs  green tomatoes  yellow corn meal   milk  ...  orange glaze  \\\n",
       "0   True            True              True   True  ...         False   \n",
       "1   True           False             False  False  ...         False   \n",
       "2  False           False             False   True  ...         False   \n",
       "3   True           False             False   True  ...         False   \n",
       "4  False           False             False  False  ...         False   \n",
       "\n",
       "   hing (powder)  ciabatta loaf  ruby red grapefruit  golden mushroom soup  \\\n",
       "0          False          False                False                 False   \n",
       "1          False          False                False                 False   \n",
       "2          False          False                False                 False   \n",
       "3          False          False                False                 False   \n",
       "4          False          False                False                 False   \n",
       "\n",
       "   lop chong  chilli bean sauce  crushed cheese crackers  cheddar cheese soup  \\\n",
       "0      False              False                    False                False   \n",
       "1      False              False                    False                False   \n",
       "2      False              False                    False                False   \n",
       "3      False              False                    False                False   \n",
       "4      False              False                    False                False   \n",
       "\n",
       "   hot tea  \n",
       "0    False  \n",
       "1    False  \n",
       "2    False  \n",
       "3    False  \n",
       "4    False  \n",
       "\n",
       "[5 rows x 5619 columns]"
      ]
     },
     "execution_count": 22,
     "metadata": {},
     "output_type": "execute_result"
    }
   ],
   "source": [
    "df_new.head(5)"
   ]
  },
  {
   "cell_type": "code",
   "execution_count": 23,
   "metadata": {},
   "outputs": [
    {
     "name": "stdout",
     "output_type": "stream",
     "text": [
      "<class 'pandas.core.frame.DataFrame'>\n",
      "RangeIndex: 21687 entries, 0 to 21686\n",
      "Columns: 5619 entries, plain flour to hot tea\n",
      "dtypes: bool(5619)\n",
      "memory usage: 116.2 MB\n"
     ]
    }
   ],
   "source": [
    "df_new.info()"
   ]
  },
  {
   "cell_type": "markdown",
   "metadata": {},
   "source": [
    "### Inserção da coluna 'id' no dataframe das features, para ser usado como 'key' para o merge dos dataframes "
   ]
  },
  {
   "cell_type": "code",
   "execution_count": 24,
   "metadata": {},
   "outputs": [
    {
     "data": {
      "text/html": [
       "<div>\n",
       "<style scoped>\n",
       "    .dataframe tbody tr th:only-of-type {\n",
       "        vertical-align: middle;\n",
       "    }\n",
       "\n",
       "    .dataframe tbody tr th {\n",
       "        vertical-align: top;\n",
       "    }\n",
       "\n",
       "    .dataframe thead th {\n",
       "        text-align: right;\n",
       "    }\n",
       "</style>\n",
       "<table border=\"1\" class=\"dataframe\">\n",
       "  <thead>\n",
       "    <tr style=\"text-align: right;\">\n",
       "      <th></th>\n",
       "      <th>cuisine</th>\n",
       "      <th>id</th>\n",
       "      <th>ingredients</th>\n",
       "      <th>plain flour</th>\n",
       "      <th>ground pepper</th>\n",
       "      <th>salt</th>\n",
       "      <th>tomatoes</th>\n",
       "      <th>ground black pepper</th>\n",
       "      <th>thyme</th>\n",
       "      <th>eggs</th>\n",
       "      <th>...</th>\n",
       "      <th>orange glaze</th>\n",
       "      <th>hing (powder)</th>\n",
       "      <th>ciabatta loaf</th>\n",
       "      <th>ruby red grapefruit</th>\n",
       "      <th>golden mushroom soup</th>\n",
       "      <th>lop chong</th>\n",
       "      <th>chilli bean sauce</th>\n",
       "      <th>crushed cheese crackers</th>\n",
       "      <th>cheddar cheese soup</th>\n",
       "      <th>hot tea</th>\n",
       "    </tr>\n",
       "  </thead>\n",
       "  <tbody>\n",
       "    <tr>\n",
       "      <th>0</th>\n",
       "      <td>southern_us</td>\n",
       "      <td>25693</td>\n",
       "      <td>[plain flour, ground pepper, salt, tomatoes, g...</td>\n",
       "      <td>True</td>\n",
       "      <td>True</td>\n",
       "      <td>True</td>\n",
       "      <td>True</td>\n",
       "      <td>True</td>\n",
       "      <td>True</td>\n",
       "      <td>True</td>\n",
       "      <td>...</td>\n",
       "      <td>False</td>\n",
       "      <td>False</td>\n",
       "      <td>False</td>\n",
       "      <td>False</td>\n",
       "      <td>False</td>\n",
       "      <td>False</td>\n",
       "      <td>False</td>\n",
       "      <td>False</td>\n",
       "      <td>False</td>\n",
       "      <td>False</td>\n",
       "    </tr>\n",
       "    <tr>\n",
       "      <th>1</th>\n",
       "      <td>filipino</td>\n",
       "      <td>20130</td>\n",
       "      <td>[eggs, pepper, salt, mayonaise, cooking oil, g...</td>\n",
       "      <td>False</td>\n",
       "      <td>False</td>\n",
       "      <td>True</td>\n",
       "      <td>False</td>\n",
       "      <td>False</td>\n",
       "      <td>False</td>\n",
       "      <td>True</td>\n",
       "      <td>...</td>\n",
       "      <td>False</td>\n",
       "      <td>False</td>\n",
       "      <td>False</td>\n",
       "      <td>False</td>\n",
       "      <td>False</td>\n",
       "      <td>False</td>\n",
       "      <td>False</td>\n",
       "      <td>False</td>\n",
       "      <td>False</td>\n",
       "      <td>False</td>\n",
       "    </tr>\n",
       "    <tr>\n",
       "      <th>2</th>\n",
       "      <td>indian</td>\n",
       "      <td>13162</td>\n",
       "      <td>[black pepper, shallots, cornflour, cayenne pe...</td>\n",
       "      <td>False</td>\n",
       "      <td>False</td>\n",
       "      <td>True</td>\n",
       "      <td>False</td>\n",
       "      <td>False</td>\n",
       "      <td>False</td>\n",
       "      <td>False</td>\n",
       "      <td>...</td>\n",
       "      <td>False</td>\n",
       "      <td>False</td>\n",
       "      <td>False</td>\n",
       "      <td>False</td>\n",
       "      <td>False</td>\n",
       "      <td>False</td>\n",
       "      <td>False</td>\n",
       "      <td>False</td>\n",
       "      <td>False</td>\n",
       "      <td>False</td>\n",
       "    </tr>\n",
       "    <tr>\n",
       "      <th>3</th>\n",
       "      <td>jamaican</td>\n",
       "      <td>6602</td>\n",
       "      <td>[plain flour, sugar, butter, eggs, fresh ginge...</td>\n",
       "      <td>True</td>\n",
       "      <td>False</td>\n",
       "      <td>True</td>\n",
       "      <td>False</td>\n",
       "      <td>False</td>\n",
       "      <td>False</td>\n",
       "      <td>True</td>\n",
       "      <td>...</td>\n",
       "      <td>False</td>\n",
       "      <td>False</td>\n",
       "      <td>False</td>\n",
       "      <td>False</td>\n",
       "      <td>False</td>\n",
       "      <td>False</td>\n",
       "      <td>False</td>\n",
       "      <td>False</td>\n",
       "      <td>False</td>\n",
       "      <td>False</td>\n",
       "    </tr>\n",
       "    <tr>\n",
       "      <th>4</th>\n",
       "      <td>spanish</td>\n",
       "      <td>42779</td>\n",
       "      <td>[olive oil, salt, medium shrimp, pepper, garli...</td>\n",
       "      <td>False</td>\n",
       "      <td>False</td>\n",
       "      <td>True</td>\n",
       "      <td>False</td>\n",
       "      <td>False</td>\n",
       "      <td>False</td>\n",
       "      <td>False</td>\n",
       "      <td>...</td>\n",
       "      <td>False</td>\n",
       "      <td>False</td>\n",
       "      <td>False</td>\n",
       "      <td>False</td>\n",
       "      <td>False</td>\n",
       "      <td>False</td>\n",
       "      <td>False</td>\n",
       "      <td>False</td>\n",
       "      <td>False</td>\n",
       "      <td>False</td>\n",
       "    </tr>\n",
       "  </tbody>\n",
       "</table>\n",
       "<p>5 rows × 5622 columns</p>\n",
       "</div>"
      ],
      "text/plain": [
       "       cuisine     id                                        ingredients  \\\n",
       "0  southern_us  25693  [plain flour, ground pepper, salt, tomatoes, g...   \n",
       "1     filipino  20130  [eggs, pepper, salt, mayonaise, cooking oil, g...   \n",
       "2       indian  13162  [black pepper, shallots, cornflour, cayenne pe...   \n",
       "3     jamaican   6602  [plain flour, sugar, butter, eggs, fresh ginge...   \n",
       "4      spanish  42779  [olive oil, salt, medium shrimp, pepper, garli...   \n",
       "\n",
       "   plain flour  ground pepper  salt  tomatoes  ground black pepper  thyme  \\\n",
       "0         True           True  True      True                 True   True   \n",
       "1        False          False  True     False                False  False   \n",
       "2        False          False  True     False                False  False   \n",
       "3         True          False  True     False                False  False   \n",
       "4        False          False  True     False                False  False   \n",
       "\n",
       "    eggs  ...  orange glaze  hing (powder)  ciabatta loaf  \\\n",
       "0   True  ...         False          False          False   \n",
       "1   True  ...         False          False          False   \n",
       "2  False  ...         False          False          False   \n",
       "3   True  ...         False          False          False   \n",
       "4  False  ...         False          False          False   \n",
       "\n",
       "   ruby red grapefruit  golden mushroom soup  lop chong  chilli bean sauce  \\\n",
       "0                False                 False      False              False   \n",
       "1                False                 False      False              False   \n",
       "2                False                 False      False              False   \n",
       "3                False                 False      False              False   \n",
       "4                False                 False      False              False   \n",
       "\n",
       "   crushed cheese crackers  cheddar cheese soup  hot tea  \n",
       "0                    False                False    False  \n",
       "1                    False                False    False  \n",
       "2                    False                False    False  \n",
       "3                    False                False    False  \n",
       "4                    False                False    False  \n",
       "\n",
       "[5 rows x 5622 columns]"
      ]
     },
     "execution_count": 24,
     "metadata": {},
     "output_type": "execute_result"
    }
   ],
   "source": [
    "df_new.insert(0, 'id', df['id'])\n",
    "total = pd.merge(df, df_new, on='id')\n",
    "total.head(5)"
   ]
  },
  {
   "cell_type": "code",
   "execution_count": 25,
   "metadata": {},
   "outputs": [
    {
     "name": "stdout",
     "output_type": "stream",
     "text": [
      "<class 'pandas.core.frame.DataFrame'>\n",
      "Int64Index: 21687 entries, 0 to 21686\n",
      "Columns: 5622 entries, cuisine to hot tea\n",
      "dtypes: bool(5619), int64(1), object(2)\n",
      "memory usage: 116.9+ MB\n"
     ]
    }
   ],
   "source": [
    "total.info()"
   ]
  },
  {
   "cell_type": "markdown",
   "metadata": {},
   "source": [
    "### Remoção de colunas não significativas"
   ]
  },
  {
   "cell_type": "code",
   "execution_count": 26,
   "metadata": {},
   "outputs": [],
   "source": [
    "total = total.drop(['ingredients', 'id'], axis=1)"
   ]
  },
  {
   "cell_type": "code",
   "execution_count": 27,
   "metadata": {},
   "outputs": [
    {
     "data": {
      "text/html": [
       "<div>\n",
       "<style scoped>\n",
       "    .dataframe tbody tr th:only-of-type {\n",
       "        vertical-align: middle;\n",
       "    }\n",
       "\n",
       "    .dataframe tbody tr th {\n",
       "        vertical-align: top;\n",
       "    }\n",
       "\n",
       "    .dataframe thead th {\n",
       "        text-align: right;\n",
       "    }\n",
       "</style>\n",
       "<table border=\"1\" class=\"dataframe\">\n",
       "  <thead>\n",
       "    <tr style=\"text-align: right;\">\n",
       "      <th></th>\n",
       "      <th>plain flour</th>\n",
       "      <th>ground pepper</th>\n",
       "      <th>salt</th>\n",
       "      <th>tomatoes</th>\n",
       "      <th>ground black pepper</th>\n",
       "      <th>thyme</th>\n",
       "      <th>eggs</th>\n",
       "      <th>green tomatoes</th>\n",
       "      <th>yellow corn meal</th>\n",
       "      <th>milk</th>\n",
       "      <th>...</th>\n",
       "      <th>hing (powder)</th>\n",
       "      <th>ciabatta loaf</th>\n",
       "      <th>ruby red grapefruit</th>\n",
       "      <th>golden mushroom soup</th>\n",
       "      <th>lop chong</th>\n",
       "      <th>chilli bean sauce</th>\n",
       "      <th>crushed cheese crackers</th>\n",
       "      <th>cheddar cheese soup</th>\n",
       "      <th>hot tea</th>\n",
       "      <th>cuisine</th>\n",
       "    </tr>\n",
       "  </thead>\n",
       "  <tbody>\n",
       "    <tr>\n",
       "      <th>0</th>\n",
       "      <td>True</td>\n",
       "      <td>True</td>\n",
       "      <td>True</td>\n",
       "      <td>True</td>\n",
       "      <td>True</td>\n",
       "      <td>True</td>\n",
       "      <td>True</td>\n",
       "      <td>True</td>\n",
       "      <td>True</td>\n",
       "      <td>True</td>\n",
       "      <td>...</td>\n",
       "      <td>False</td>\n",
       "      <td>False</td>\n",
       "      <td>False</td>\n",
       "      <td>False</td>\n",
       "      <td>False</td>\n",
       "      <td>False</td>\n",
       "      <td>False</td>\n",
       "      <td>False</td>\n",
       "      <td>False</td>\n",
       "      <td>southern_us</td>\n",
       "    </tr>\n",
       "    <tr>\n",
       "      <th>1</th>\n",
       "      <td>False</td>\n",
       "      <td>False</td>\n",
       "      <td>True</td>\n",
       "      <td>False</td>\n",
       "      <td>False</td>\n",
       "      <td>False</td>\n",
       "      <td>True</td>\n",
       "      <td>False</td>\n",
       "      <td>False</td>\n",
       "      <td>False</td>\n",
       "      <td>...</td>\n",
       "      <td>False</td>\n",
       "      <td>False</td>\n",
       "      <td>False</td>\n",
       "      <td>False</td>\n",
       "      <td>False</td>\n",
       "      <td>False</td>\n",
       "      <td>False</td>\n",
       "      <td>False</td>\n",
       "      <td>False</td>\n",
       "      <td>filipino</td>\n",
       "    </tr>\n",
       "    <tr>\n",
       "      <th>2</th>\n",
       "      <td>False</td>\n",
       "      <td>False</td>\n",
       "      <td>True</td>\n",
       "      <td>False</td>\n",
       "      <td>False</td>\n",
       "      <td>False</td>\n",
       "      <td>False</td>\n",
       "      <td>False</td>\n",
       "      <td>False</td>\n",
       "      <td>True</td>\n",
       "      <td>...</td>\n",
       "      <td>False</td>\n",
       "      <td>False</td>\n",
       "      <td>False</td>\n",
       "      <td>False</td>\n",
       "      <td>False</td>\n",
       "      <td>False</td>\n",
       "      <td>False</td>\n",
       "      <td>False</td>\n",
       "      <td>False</td>\n",
       "      <td>indian</td>\n",
       "    </tr>\n",
       "    <tr>\n",
       "      <th>3</th>\n",
       "      <td>True</td>\n",
       "      <td>False</td>\n",
       "      <td>True</td>\n",
       "      <td>False</td>\n",
       "      <td>False</td>\n",
       "      <td>False</td>\n",
       "      <td>True</td>\n",
       "      <td>False</td>\n",
       "      <td>False</td>\n",
       "      <td>True</td>\n",
       "      <td>...</td>\n",
       "      <td>False</td>\n",
       "      <td>False</td>\n",
       "      <td>False</td>\n",
       "      <td>False</td>\n",
       "      <td>False</td>\n",
       "      <td>False</td>\n",
       "      <td>False</td>\n",
       "      <td>False</td>\n",
       "      <td>False</td>\n",
       "      <td>jamaican</td>\n",
       "    </tr>\n",
       "    <tr>\n",
       "      <th>4</th>\n",
       "      <td>False</td>\n",
       "      <td>False</td>\n",
       "      <td>True</td>\n",
       "      <td>False</td>\n",
       "      <td>False</td>\n",
       "      <td>False</td>\n",
       "      <td>False</td>\n",
       "      <td>False</td>\n",
       "      <td>False</td>\n",
       "      <td>False</td>\n",
       "      <td>...</td>\n",
       "      <td>False</td>\n",
       "      <td>False</td>\n",
       "      <td>False</td>\n",
       "      <td>False</td>\n",
       "      <td>False</td>\n",
       "      <td>False</td>\n",
       "      <td>False</td>\n",
       "      <td>False</td>\n",
       "      <td>False</td>\n",
       "      <td>spanish</td>\n",
       "    </tr>\n",
       "  </tbody>\n",
       "</table>\n",
       "<p>5 rows × 5620 columns</p>\n",
       "</div>"
      ],
      "text/plain": [
       "   plain flour  ground pepper  salt  tomatoes  ground black pepper  thyme  \\\n",
       "0         True           True  True      True                 True   True   \n",
       "1        False          False  True     False                False  False   \n",
       "2        False          False  True     False                False  False   \n",
       "3         True          False  True     False                False  False   \n",
       "4        False          False  True     False                False  False   \n",
       "\n",
       "    eggs  green tomatoes  yellow corn meal   milk  ...  hing (powder)  \\\n",
       "0   True            True              True   True  ...          False   \n",
       "1   True           False             False  False  ...          False   \n",
       "2  False           False             False   True  ...          False   \n",
       "3   True           False             False   True  ...          False   \n",
       "4  False           False             False  False  ...          False   \n",
       "\n",
       "   ciabatta loaf  ruby red grapefruit  golden mushroom soup  lop chong  \\\n",
       "0          False                False                 False      False   \n",
       "1          False                False                 False      False   \n",
       "2          False                False                 False      False   \n",
       "3          False                False                 False      False   \n",
       "4          False                False                 False      False   \n",
       "\n",
       "   chilli bean sauce  crushed cheese crackers  cheddar cheese soup  hot tea  \\\n",
       "0              False                    False                False    False   \n",
       "1              False                    False                False    False   \n",
       "2              False                    False                False    False   \n",
       "3              False                    False                False    False   \n",
       "4              False                    False                False    False   \n",
       "\n",
       "       cuisine  \n",
       "0  southern_us  \n",
       "1     filipino  \n",
       "2       indian  \n",
       "3     jamaican  \n",
       "4      spanish  \n",
       "\n",
       "[5 rows x 5620 columns]"
      ]
     },
     "execution_count": 27,
     "metadata": {},
     "output_type": "execute_result"
    }
   ],
   "source": [
    "cols = total.columns.tolist()\n",
    "cols = cols[1:] + cols[:1]\n",
    "total = total[cols]\n",
    "total.head(5)"
   ]
  },
  {
   "cell_type": "code",
   "execution_count": 28,
   "metadata": {},
   "outputs": [],
   "source": [
    "i = 0\n",
    "for key in sorted(counts, key=counts.get, reverse=True):\n",
    "    if i == 50:\n",
    "        break\n",
    "    total = total.drop(key, axis=1)\n",
    "    i += 1"
   ]
  },
  {
   "cell_type": "code",
   "execution_count": 29,
   "metadata": {},
   "outputs": [
    {
     "name": "stdout",
     "output_type": "stream",
     "text": [
      "<class 'pandas.core.frame.DataFrame'>\n",
      "Int64Index: 21687 entries, 0 to 21686\n",
      "Columns: 5570 entries, plain flour to cuisine\n",
      "dtypes: bool(5569), object(1)\n",
      "memory usage: 115.5+ MB\n"
     ]
    }
   ],
   "source": [
    "total.info()"
   ]
  },
  {
   "cell_type": "code",
   "execution_count": 30,
   "metadata": {},
   "outputs": [
    {
     "data": {
      "text/html": [
       "<div>\n",
       "<style scoped>\n",
       "    .dataframe tbody tr th:only-of-type {\n",
       "        vertical-align: middle;\n",
       "    }\n",
       "\n",
       "    .dataframe tbody tr th {\n",
       "        vertical-align: top;\n",
       "    }\n",
       "\n",
       "    .dataframe thead th {\n",
       "        text-align: right;\n",
       "    }\n",
       "</style>\n",
       "<table border=\"1\" class=\"dataframe\">\n",
       "  <thead>\n",
       "    <tr style=\"text-align: right;\">\n",
       "      <th></th>\n",
       "      <th>plain flour</th>\n",
       "      <th>ground pepper</th>\n",
       "      <th>thyme</th>\n",
       "      <th>green tomatoes</th>\n",
       "      <th>yellow corn meal</th>\n",
       "      <th>mayonaise</th>\n",
       "      <th>cooking oil</th>\n",
       "      <th>green chilies</th>\n",
       "      <th>grilled chicken breasts</th>\n",
       "      <th>yellow onion</th>\n",
       "      <th>...</th>\n",
       "      <th>hing (powder)</th>\n",
       "      <th>ciabatta loaf</th>\n",
       "      <th>ruby red grapefruit</th>\n",
       "      <th>golden mushroom soup</th>\n",
       "      <th>lop chong</th>\n",
       "      <th>chilli bean sauce</th>\n",
       "      <th>crushed cheese crackers</th>\n",
       "      <th>cheddar cheese soup</th>\n",
       "      <th>hot tea</th>\n",
       "      <th>cuisine</th>\n",
       "    </tr>\n",
       "  </thead>\n",
       "  <tbody>\n",
       "    <tr>\n",
       "      <th>0</th>\n",
       "      <td>True</td>\n",
       "      <td>True</td>\n",
       "      <td>True</td>\n",
       "      <td>True</td>\n",
       "      <td>True</td>\n",
       "      <td>False</td>\n",
       "      <td>False</td>\n",
       "      <td>False</td>\n",
       "      <td>False</td>\n",
       "      <td>False</td>\n",
       "      <td>...</td>\n",
       "      <td>False</td>\n",
       "      <td>False</td>\n",
       "      <td>False</td>\n",
       "      <td>False</td>\n",
       "      <td>False</td>\n",
       "      <td>False</td>\n",
       "      <td>False</td>\n",
       "      <td>False</td>\n",
       "      <td>False</td>\n",
       "      <td>southern_us</td>\n",
       "    </tr>\n",
       "    <tr>\n",
       "      <th>1</th>\n",
       "      <td>False</td>\n",
       "      <td>False</td>\n",
       "      <td>False</td>\n",
       "      <td>False</td>\n",
       "      <td>False</td>\n",
       "      <td>True</td>\n",
       "      <td>True</td>\n",
       "      <td>True</td>\n",
       "      <td>True</td>\n",
       "      <td>True</td>\n",
       "      <td>...</td>\n",
       "      <td>False</td>\n",
       "      <td>False</td>\n",
       "      <td>False</td>\n",
       "      <td>False</td>\n",
       "      <td>False</td>\n",
       "      <td>False</td>\n",
       "      <td>False</td>\n",
       "      <td>False</td>\n",
       "      <td>False</td>\n",
       "      <td>filipino</td>\n",
       "    </tr>\n",
       "    <tr>\n",
       "      <th>2</th>\n",
       "      <td>False</td>\n",
       "      <td>False</td>\n",
       "      <td>False</td>\n",
       "      <td>False</td>\n",
       "      <td>False</td>\n",
       "      <td>False</td>\n",
       "      <td>False</td>\n",
       "      <td>False</td>\n",
       "      <td>False</td>\n",
       "      <td>False</td>\n",
       "      <td>...</td>\n",
       "      <td>False</td>\n",
       "      <td>False</td>\n",
       "      <td>False</td>\n",
       "      <td>False</td>\n",
       "      <td>False</td>\n",
       "      <td>False</td>\n",
       "      <td>False</td>\n",
       "      <td>False</td>\n",
       "      <td>False</td>\n",
       "      <td>indian</td>\n",
       "    </tr>\n",
       "    <tr>\n",
       "      <th>3</th>\n",
       "      <td>True</td>\n",
       "      <td>False</td>\n",
       "      <td>False</td>\n",
       "      <td>False</td>\n",
       "      <td>False</td>\n",
       "      <td>False</td>\n",
       "      <td>False</td>\n",
       "      <td>False</td>\n",
       "      <td>False</td>\n",
       "      <td>False</td>\n",
       "      <td>...</td>\n",
       "      <td>False</td>\n",
       "      <td>False</td>\n",
       "      <td>False</td>\n",
       "      <td>False</td>\n",
       "      <td>False</td>\n",
       "      <td>False</td>\n",
       "      <td>False</td>\n",
       "      <td>False</td>\n",
       "      <td>False</td>\n",
       "      <td>jamaican</td>\n",
       "    </tr>\n",
       "    <tr>\n",
       "      <th>4</th>\n",
       "      <td>False</td>\n",
       "      <td>False</td>\n",
       "      <td>False</td>\n",
       "      <td>False</td>\n",
       "      <td>False</td>\n",
       "      <td>False</td>\n",
       "      <td>False</td>\n",
       "      <td>False</td>\n",
       "      <td>False</td>\n",
       "      <td>False</td>\n",
       "      <td>...</td>\n",
       "      <td>False</td>\n",
       "      <td>False</td>\n",
       "      <td>False</td>\n",
       "      <td>False</td>\n",
       "      <td>False</td>\n",
       "      <td>False</td>\n",
       "      <td>False</td>\n",
       "      <td>False</td>\n",
       "      <td>False</td>\n",
       "      <td>spanish</td>\n",
       "    </tr>\n",
       "  </tbody>\n",
       "</table>\n",
       "<p>5 rows × 5570 columns</p>\n",
       "</div>"
      ],
      "text/plain": [
       "   plain flour  ground pepper  thyme  green tomatoes  yellow corn meal  \\\n",
       "0         True           True   True            True              True   \n",
       "1        False          False  False           False             False   \n",
       "2        False          False  False           False             False   \n",
       "3         True          False  False           False             False   \n",
       "4        False          False  False           False             False   \n",
       "\n",
       "   mayonaise  cooking oil  green chilies  grilled chicken breasts  \\\n",
       "0      False        False          False                    False   \n",
       "1       True         True           True                     True   \n",
       "2      False        False          False                    False   \n",
       "3      False        False          False                    False   \n",
       "4      False        False          False                    False   \n",
       "\n",
       "   yellow onion  ...  hing (powder)  ciabatta loaf  ruby red grapefruit  \\\n",
       "0         False  ...          False          False                False   \n",
       "1          True  ...          False          False                False   \n",
       "2         False  ...          False          False                False   \n",
       "3         False  ...          False          False                False   \n",
       "4         False  ...          False          False                False   \n",
       "\n",
       "   golden mushroom soup  lop chong  chilli bean sauce  \\\n",
       "0                 False      False              False   \n",
       "1                 False      False              False   \n",
       "2                 False      False              False   \n",
       "3                 False      False              False   \n",
       "4                 False      False              False   \n",
       "\n",
       "   crushed cheese crackers  cheddar cheese soup  hot tea      cuisine  \n",
       "0                    False                False    False  southern_us  \n",
       "1                    False                False    False     filipino  \n",
       "2                    False                False    False       indian  \n",
       "3                    False                False    False     jamaican  \n",
       "4                    False                False    False      spanish  \n",
       "\n",
       "[5 rows x 5570 columns]"
      ]
     },
     "execution_count": 30,
     "metadata": {},
     "output_type": "execute_result"
    }
   ],
   "source": [
    "total.head(5)"
   ]
  },
  {
   "cell_type": "code",
   "execution_count": 31,
   "metadata": {},
   "outputs": [
    {
     "data": {
      "text/plain": [
       "20"
      ]
     },
     "execution_count": 31,
     "metadata": {},
     "output_type": "execute_result"
    }
   ],
   "source": [
    "len(np.unique(total['cuisine']))"
   ]
  },
  {
   "cell_type": "markdown",
   "metadata": {},
   "source": [
    "### Divisão entre features e label"
   ]
  },
  {
   "cell_type": "code",
   "execution_count": 32,
   "metadata": {},
   "outputs": [
    {
     "data": {
      "text/plain": [
       "((21687, 5569), (21687,))"
      ]
     },
     "execution_count": 32,
     "metadata": {},
     "output_type": "execute_result"
    }
   ],
   "source": [
    "X = total.values[:, :-1]\n",
    "y = total.values[:, -1]\n",
    "X.shape, y.shape"
   ]
  },
  {
   "cell_type": "markdown",
   "metadata": {},
   "source": [
    "### Divisão do dataset em Treino (80%) e Teste (20%)"
   ]
  },
  {
   "cell_type": "code",
   "execution_count": 33,
   "metadata": {},
   "outputs": [
    {
     "data": {
      "text/plain": [
       "((17349, 5569), (4338, 5569), (17349,), (4338,))"
      ]
     },
     "execution_count": 33,
     "metadata": {},
     "output_type": "execute_result"
    }
   ],
   "source": [
    "X_train, X_test, y_train, y_test = train_test_split(X, y, test_size=0.2, random_state=42, shuffle=True, stratify=y)\n",
    "X_train.shape, X_test.shape, y_train.shape, y_test.shape"
   ]
  },
  {
   "cell_type": "markdown",
   "metadata": {},
   "source": [
    "### Criação dos modelos"
   ]
  },
  {
   "cell_type": "code",
   "execution_count": 34,
   "metadata": {},
   "outputs": [],
   "source": [
    "models = {}\n",
    "models['DumClas'] = DummyClassifier()\n",
    "models['AdaClas'] = AdaBoostClassifier()\n",
    "models['RFoClas'] = RandomForestClassifier(n_estimators=100)\n",
    "\n",
    "models['GaussNB'] = GaussianNB()\n",
    "models['__SVM__'] = SVC(gamma='auto')\n",
    "models['__KNN__'] = KNeighborsClassifier()"
   ]
  },
  {
   "cell_type": "markdown",
   "metadata": {},
   "source": [
    "### Treinando os modelos"
   ]
  },
  {
   "cell_type": "code",
   "execution_count": 35,
   "metadata": {},
   "outputs": [
    {
     "name": "stdout",
     "output_type": "stream",
     "text": [
      "DumClas\n",
      "AdaClas\n",
      "RFoClas\n",
      "GaussNB\n",
      "__SVM__\n",
      "__KNN__\n"
     ]
    }
   ],
   "source": [
    "y_pred = {}\n",
    "for k in models:\n",
    "    print(k)\n",
    "    models[k].fit(X_train, y_train)\n",
    "    y_pred[k] = models[k].predict(X_test)"
   ]
  },
  {
   "cell_type": "markdown",
   "metadata": {},
   "source": [
    "### Avaliação dos modelos baseado na acurácia"
   ]
  },
  {
   "cell_type": "code",
   "execution_count": 36,
   "metadata": {},
   "outputs": [
    {
     "name": "stdout",
     "output_type": "stream",
     "text": [
      "DumClas 0.09359151682803135\n",
      "AdaClas 0.5053019824804057\n",
      "RFoClas 0.7298294144767173\n",
      "GaussNB 0.4677270631627478\n",
      "__SVM__ 0.18118948824343015\n",
      "__KNN__ 0.5760719225449515\n"
     ]
    }
   ],
   "source": [
    "for k in models:\n",
    "    print(k, accuracy_score(y_test, y_pred[k]))"
   ]
  },
  {
   "cell_type": "markdown",
   "metadata": {},
   "source": []
  }
 ],
 "metadata": {
  "kernelspec": {
   "display_name": "Python 3",
   "language": "python",
   "name": "python3"
  },
  "language_info": {
   "codemirror_mode": {
    "name": "ipython",
    "version": 3
   },
   "file_extension": ".py",
   "mimetype": "text/x-python",
   "name": "python",
   "nbconvert_exporter": "python",
   "pygments_lexer": "ipython3",
   "version": "3.7.3"
  }
 },
 "nbformat": 4,
 "nbformat_minor": 2
}
